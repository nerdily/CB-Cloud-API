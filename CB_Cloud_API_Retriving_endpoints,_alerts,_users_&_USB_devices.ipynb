{
  "nbformat": 4,
  "nbformat_minor": 0,
  "metadata": {
    "colab": {
      "name": "Copy of CB Cloud API - Retriving endpoints, alerts, users & USB devices",
      "provenance": [],
      "collapsed_sections": [
        "29YDYFrIUFXZ",
        "yqncsmB1EQH4",
        "skjz899QzxHQ",
        "07Fn701QF2rB"
      ]
    },
    "kernelspec": {
      "name": "python3",
      "display_name": "Python 3"
    },
    "language_info": {
      "name": "python"
    }
  },
  "cells": [
    {
      "cell_type": "markdown",
      "source": [
        "#Setup our parameters & keys"
      ],
      "metadata": {
        "id": "1vaC3Pnrpp6I"
      }
    },
    {
      "cell_type": "code",
      "execution_count": null,
      "metadata": {
        "id": "zZVN-tUbhPNg"
      },
      "outputs": [],
      "source": [
        "import pandas as pd\n",
        "import requests\n",
        "import json\n",
        "import numpy as np\n",
        "\n",
        "\n",
        "api_id='api_id'\n",
        "api_secret_key='api_secret'\n",
        "org_key='org_key'\n",
        "base_url='https://defense-prod05.conferdeploy.net'\n",
        "\n",
        "#Alternatively you can prompt each time for information:\n",
        "#api_id = input('Enter the CBC API ID: ')\n",
        "#api_secret_key = input('Enter the CBC API Key: ')\n",
        "#org_key = input('Enter the CBC Org Key: ')\n",
        "#base_url = input('Enter the URL of your Carbon Black Cloud instance: ')\n",
        "\n",
        "api_token= '/'.join([api_secret_key, api_id])\n",
        "\n",
        "print('Your Parameters')\n",
        "print('API ID: ' + api_id)\n",
        "print('Secret: ' + api_secret_key)\n",
        "print('Org key: ' + org_key)\n",
        "print('Base URL: ' + base_url)\n",
        "print('API token: ' + api_token)"
      ]
    },
    {
      "cell_type": "markdown",
      "source": [
        "#Get list of endpoints:"
      ],
      "metadata": {
        "id": "yeTe5cvXs47b"
      }
    },
    {
      "cell_type": "code",
      "source": [
        "#Form our request URL:\n",
        "req_url = base_url + '/appservices/v6/orgs/' + org_key + '/devices/_search'\n",
        "\n",
        "#Set our headers\n",
        "headers = {'X-Auth-Token': api_token,\n",
        "           'Content-Type': 'application/json'\n",
        "           }\n",
        "#Set our data (body) for the request\n",
        "data = {\"criteria\":{\"deployment_type\":[\"ENDPOINT\",\"WORKLOAD\",\"VDI\"]},\"sort\":[{\"field\":\"last_contact_time\",\"order\":\"DESC\"}],\"start\":1,\"rows\":10000,\"\":\"\"}\n",
        "\n",
        "#Double check they're ok\n",
        "print('Request URL: ' + req_url)\n",
        "print('Headers: ', end=\"\") \n",
        "print(headers)\n",
        "print('Data: ', end=\"\")\n",
        "print(data)"
      ],
      "metadata": {
        "id": "ivlvo9Jsqk8I"
      },
      "execution_count": null,
      "outputs": []
    },
    {
      "cell_type": "code",
      "source": [
        "#Make the request\n",
        "req = requests.post(req_url, headers=headers, json=data)\n",
        "print('Status code: ' + str(req.status_code))\n"
      ],
      "metadata": {
        "id": "KV3VwkJ-hctc"
      },
      "execution_count": null,
      "outputs": []
    },
    {
      "cell_type": "code",
      "source": [
        "devices_dict = req.json()\n",
        "devices_dict['results']\n",
        "devices = pd.DataFrame.from_dict(devices_dict['results'])\n",
        "devices.set_index('device_owner_id', drop=True, inplace=True)\n",
        "\n",
        "print('Total devices found: ', end=\"\")\n",
        "print(devices_dict.get('num_found'))\n",
        "devices.head()"
      ],
      "metadata": {
        "id": "QYaqQyLdsOEz"
      },
      "execution_count": null,
      "outputs": []
    },
    {
      "cell_type": "code",
      "source": [
        "#Cool. Let's export to CSV now\n",
        "devices.to_csv('devices.csv')"
      ],
      "metadata": {
        "id": "a3K5H5Mo2Ghb"
      },
      "execution_count": null,
      "outputs": []
    },
    {
      "cell_type": "markdown",
      "source": [
        "#Get Alerts\n"
      ],
      "metadata": {
        "id": "yqncsmB1EQH4"
      }
    },
    {
      "cell_type": "code",
      "source": [
        "#Form our request URL:\n",
        "req_url = base_url + '/appservices/v6/orgs/' + org_key + '/alerts/_search'\n",
        "\n",
        "#Set our headers\n",
        "headers = {'X-Auth-Token': api_token,\n",
        "           'Content-Type': 'application/json'\n",
        "           }\n",
        "#Set our data (body) for the request\n",
        "data = {\"criteria\":{\"group_results\":\"false\",\"minimum_severity\":\"1\",\"category\":[\"THREAT\"],\"workflow\":[\"DISMISSED\"],\"alert_type\":[\"CB_ANALYTICS\"],\"create_time\":{\"range\":\"all\"}},\"query\":\"\",\"sort\":[{\"field\":\"create_time\",\"order\":\"DESC\"}],\"start\":0,\"rows\":10000}\n",
        "\n",
        "#Double check they're ok\n",
        "print('Request URL: ' + req_url)\n",
        "print('Headers: ', end=\"\") \n",
        "print(headers)\n",
        "print('Data: ', end=\"\")\n",
        "print(data)"
      ],
      "metadata": {
        "id": "YSfjQ2X15JA-"
      },
      "execution_count": null,
      "outputs": []
    },
    {
      "cell_type": "code",
      "source": [
        "#Make the request\n",
        "req = requests.post(req_url, headers=headers, json=data)\n",
        "print('Status code: ' + str(req.status_code))\n"
      ],
      "metadata": {
        "id": "E3UtKL8lHtor"
      },
      "execution_count": null,
      "outputs": []
    },
    {
      "cell_type": "code",
      "source": [
        "#Let's see what we've got\n",
        "alerts_dict = req.json()\n",
        "\n",
        "print('Total alerts found: ', end=\"\")\n",
        "print(alerts_dict.get('num_found'))\n",
        "print('Total alerts available: ', end=\"\")\n",
        "print(alerts_dict.get('num_available'))\n",
        "\n",
        "alerts_dict['results']\n",
        "alerts = pd.DataFrame.from_dict(alerts_dict['results'])\n",
        "alerts.head()"
      ],
      "metadata": {
        "id": "ZcQhDkcrJ243"
      },
      "execution_count": null,
      "outputs": []
    },
    {
      "cell_type": "code",
      "source": [
        "#Cool. Let's export to CSV now\n",
        "alerts.to_csv('alerts.csv')"
      ],
      "metadata": {
        "id": "M02j3K0tiFIV"
      },
      "execution_count": null,
      "outputs": []
    },
    {
      "cell_type": "code",
      "source": [
        "sev_summary = pd.DataFrame(alerts.pivot_table(index='severity',aggfunc='count').id).rename(columns = {'id':'Total_Alerts'})\n",
        "sev_summary"
      ],
      "metadata": {
        "id": "suPY6L4dU4RQ"
      },
      "execution_count": null,
      "outputs": []
    },
    {
      "cell_type": "code",
      "source": [
        "sev_summary.plot(kind='bar')"
      ],
      "metadata": {
        "id": "m2IKJUoziQoN"
      },
      "execution_count": null,
      "outputs": []
    },
    {
      "cell_type": "markdown",
      "source": [
        "#Get Users"
      ],
      "metadata": {
        "id": "skjz899QzxHQ"
      }
    },
    {
      "cell_type": "code",
      "source": [
        "#Form our request URL:\n",
        "req_url = base_url + '/appservices/v6/orgs/' + org_key + '/users'\n",
        "\n",
        "#Set our headers\n",
        "headers = {'X-Auth-Token': api_token,\n",
        "           'Content-Type': 'application/json'\n",
        "           }\n",
        "\n",
        "#Double check they're ok\n",
        "print('Request URL: ' + req_url)\n",
        "print('Headers: ', end=\"\") \n",
        "print(headers)"
      ],
      "metadata": {
        "id": "QLXoUFIXz7Gq"
      },
      "execution_count": null,
      "outputs": []
    },
    {
      "cell_type": "code",
      "source": [
        "#Make the request\n",
        "req = requests.get(req_url, headers=headers)\n",
        "print('Status code: ' + str(req.status_code))\n"
      ],
      "metadata": {
        "id": "DkNitZEu6ZUl"
      },
      "execution_count": null,
      "outputs": []
    },
    {
      "cell_type": "code",
      "source": [
        "#Let's see what we've got\n",
        "users_dict = req.json()\n",
        "users_dict['users']\n",
        "users = pd.DataFrame.from_dict(users_dict['users'])\n",
        "users"
      ],
      "metadata": {
        "id": "s-pb97T4_bkw"
      },
      "execution_count": null,
      "outputs": []
    },
    {
      "cell_type": "code",
      "source": [
        "#Due to the \"DEPRECATED\" values above, we need to look up each user (\"principal\") against a different API endpoint and see their \"grant\" (role)\n",
        "\n",
        "# See here for more info: https://developer.carbonblack.com/reference/carbon-black-cloud/platform/latest/access-profiles-and-grants/#get-grant-of-a-principal\n",
        "\n",
        "#For each login_id in users, look up the principal's grant:\n",
        "for i, j in users.iterrows():\n",
        "  print('login_id ' + str(j.login_id) + ' ', end=\"\")\n",
        "  \n",
        "  #Form our request URL:\n",
        "  req_url = base_url + '/access/v2/orgs/' + org_key + '/grants/psc:user:' + org_key + ':' + str(j.login_id)\n",
        "\n",
        "  #Set our headers\n",
        "  headers = {'X-Auth-Token': api_token,\n",
        "           'Content-Type': 'application/json'\n",
        "           }\n",
        "\n",
        "  #Make the request\n",
        "  req = requests.get(req_url, headers=headers)\n",
        "  print('Status code: ' + str(req.status_code) + ' ', end=\"\")\n",
        "\n",
        "  #Let's see what we've got\n",
        "  principal_dict = req.json()\n",
        "  role=np.array(principal_dict['roles'])\n",
        "\n",
        "  #Clean up the results\n",
        "  role=str(role).replace(\"BETA_\",\"\")\n",
        "  role=role.replace(\"psc:role::\",\"\")\n",
        "  role=role.replace(\"[\",\"\")\n",
        "  role=role.replace(\"]\",\"\")\n",
        "  role=role.replace(\"'\",\"\")\n",
        "  role=role.replace(\"_\", \" \")\n",
        "\n",
        "  print(role)\n",
        "  \n",
        "  #Set the new role value in the users dataframe\n",
        "  users.at[i,'role']=role\n",
        "  print()\n",
        "\n",
        "  \n",
        "  "
      ],
      "metadata": {
        "id": "0MDiJ_AEEM_w"
      },
      "execution_count": null,
      "outputs": []
    },
    {
      "cell_type": "code",
      "source": [
        "#Let's see the real user roles, now updated in the dataframe\n",
        "users"
      ],
      "metadata": {
        "id": "9f8oiS1lm5Mf"
      },
      "execution_count": null,
      "outputs": []
    },
    {
      "cell_type": "code",
      "source": [
        "#Cool. Let's export to CSV now\n",
        "users.to_csv('users.csv')"
      ],
      "metadata": {
        "id": "Nr7OJAO1iaqK"
      },
      "execution_count": null,
      "outputs": []
    },
    {
      "cell_type": "markdown",
      "source": [
        "#Get USB Devices\n"
      ],
      "metadata": {
        "id": "07Fn701QF2rB"
      }
    },
    {
      "cell_type": "code",
      "source": [
        "#Looks like a 2-step process, similar to looking up users.\n",
        "# POST {cbc-hostname}/device_control/v3/orgs/{org_key}/devices/_search\n",
        "\n",
        "#Form our request URL:\n",
        "req_url = base_url + '/device_control/v3/orgs/' + org_key + '/devices/_search'\n",
        "\n",
        "#Set our headers\n",
        "headers = {'X-Auth-Token': api_token,\n",
        "           'Content-Type': 'application/json'\n",
        "           }\n",
        "#Set our data (body) for the request\n",
        "data = {\"query\":\"\",\"criteria\":{},\"sort\":[{\"field\":\"last_seen\",\"order\":\"DESC\"}],\"start\":0,\"rows\":10000}\n",
        "\n",
        "#Double check they're ok\n",
        "print('Request URL: ' + req_url)\n",
        "print('Headers: ', end=\"\") \n",
        "print(headers)\n",
        "print('Data: ', end=\"\")\n",
        "print(data)"
      ],
      "metadata": {
        "id": "GLISOqsIF5j5"
      },
      "execution_count": null,
      "outputs": []
    },
    {
      "cell_type": "code",
      "source": [
        "#Make the request\n",
        "req = requests.post(req_url, headers=headers, json=data)\n",
        "print('Status code: ' + str(req.status_code))"
      ],
      "metadata": {
        "id": "fdgGwG_XNB7i"
      },
      "execution_count": null,
      "outputs": []
    },
    {
      "cell_type": "code",
      "source": [
        "usb_devices_dict = req.json()\n",
        "usb_devices_dict['results']\n",
        "usb_devices = pd.DataFrame.from_dict(usb_devices_dict['results'])\n",
        "usb_devices.set_index('id', drop=True, inplace=True)\n",
        "usb_devices"
      ],
      "metadata": {
        "id": "D34-qO68NHeA"
      },
      "execution_count": null,
      "outputs": []
    },
    {
      "cell_type": "code",
      "source": [
        "#Cool. Let's export to CSV now\n",
        "usb_devices.to_csv('usb_devices.csv')"
      ],
      "metadata": {
        "id": "b8Qj4yWrPFi2"
      },
      "execution_count": null,
      "outputs": []
    }
  ]
}