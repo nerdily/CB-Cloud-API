{
  "nbformat": 4,
  "nbformat_minor": 0,
  "metadata": {
    "colab": {
      "name": "CB Cloud API - Retriving endpoints, alerts, users & USB devices",
      "provenance": [],
      "collapsed_sections": [
        "yeTe5cvXs47b",
        "yqncsmB1EQH4",
        "skjz899QzxHQ",
        "07Fn701QF2rB"
      ]
    },
    "kernelspec": {
      "name": "python3",
      "display_name": "Python 3"
    },
    "language_info": {
      "name": "python"
    }
  },
  "cells": [
    {
      "cell_type": "markdown",
      "source": [
        "#Setup our parameters & keys"
      ],
      "metadata": {
        "id": "1vaC3Pnrpp6I"
      }
    },
    {
      "cell_type": "code",
      "execution_count": null,
      "metadata": {
        "id": "zZVN-tUbhPNg"
      },
      "outputs": [],
      "source": [
        "import pandas as pd\n",
        "import requests\n",
        "import json\n",
        "import numpy as np\n",
        "\n",
        "\n",
        "api_id='api_id'\n",
        "api_secret_key='api_secret'\n",
        "org_key='org_key'\n",
        "base_url='https://defense.conferdeploy.net'\n",
        "\n",
        "#Alternatively you can prompt each time for information:\n",
        "#api_id = input('Enter the CBC API ID: ')\n",
        "#api_secret_key = input('Enter the CBC API Key: ')\n",
        "#org_key = input('Enter the CBC Org Key: ')\n",
        "#base_url = input('Enter the URL of your Carbon Black Cloud instance: ')\n",
        "\n",
        "api_token= '/'.join([api_secret_key, api_id])\n",
        "\n",
        "print('Your Parameters')\n",
        "print('API ID: ' + api_id)\n",
        "print('Secret: ' + api_secret_key)\n",
        "print('Org key: ' + org_key)\n",
        "print('Base URL: ' + base_url)\n",
        "print('API token: ' + api_token)"
      ]
    },
    {
      "cell_type": "markdown",
      "source": [
        "#Get list of endpoints:"
      ],
      "metadata": {
        "id": "yeTe5cvXs47b"
      }
    },
    {
      "cell_type": "code",
      "source": [
        "#Form our request URL:\n",
        "req_url = base_url + '/appservices/v6/orgs/' + org_key + '/devices/_search'\n",
        "\n",
        "#Set our headers\n",
        "headers = {'X-Auth-Token': api_token,\n",
        "           'Content-Type': 'application/json'\n",
        "           }\n",
        "#Set our data (body) for the request\n",
        "data = '{\"criteria\":{\"deployment_type\":[\"ENDPOINT\",\"WORKLOAD\",\"VDI\"]},\"sort\":[{\"field\":\"last_contact_time\",\"order\":\"DESC\"}],\"start\":1,\"rows\":10000,\"\":\"\"}'\n",
        "\n",
        "#Double check they're ok\n",
        "print('Request URL: ' + req_url)\n",
        "print('Headers: ', end=\"\") \n",
        "print(headers)\n",
        "print('Data: ', end=\"\")\n",
        "print(data)"
      ],
      "metadata": {
        "id": "ivlvo9Jsqk8I"
      },
      "execution_count": null,
      "outputs": []
    },
    {
      "cell_type": "code",
      "source": [
        "#Make the request\n",
        "req = requests.post(req_url, headers=headers, data=data)\n",
        "print('Status code: ' + str(req.status_code))\n"
      ],
      "metadata": {
        "id": "KV3VwkJ-hctc"
      },
      "execution_count": null,
      "outputs": []
    },
    {
      "cell_type": "code",
      "source": [
        "devices_dict = req.json()\n",
        "devices_dict['results']\n",
        "devices = pd.DataFrame.from_dict(devices_dict['results'])\n",
        "devices.set_index('device_owner_id', drop=True, inplace=True)\n",
        "\n",
        "print('Total devices found: ', end=\"\")\n",
        "print(devices_dict.get('num_found'))\n",
        "devices.head()"
      ],
      "metadata": {
        "id": "QYaqQyLdsOEz"
      },
      "execution_count": null,
      "outputs": []
    },
    {
      "cell_type": "code",
      "source": [
        "#Cool. Let's export to CSV now\n",
        "devices.to_csv('devices.csv')"
      ],
      "metadata": {
        "id": "a3K5H5Mo2Ghb"
      },
      "execution_count": null,
      "outputs": []
    },
    {
      "cell_type": "markdown",
      "source": [
        "#Get Alerts\n"
      ],
      "metadata": {
        "id": "yqncsmB1EQH4"
      }
    },
    {
      "cell_type": "code",
      "source": [
        "#Form our request URL:\n",
        "req_url = base_url + '/appservices/v6/orgs/' + org_key + '/alerts/_search'\n",
        "\n",
        "#Set our headers\n",
        "headers = {'X-Auth-Token': api_token,\n",
        "           'Content-Type': 'application/json'\n",
        "           }\n",
        "#Set our data (body) for the request\n",
        "data = '{\"criteria\":{\"group_results\":\"false\",\"minimum_severity\":\"1\",\"category\":[\"THREAT\"],\"workflow\":[\"DISMISSED\"],\"alert_type\":[\"CB_ANALYTICS\"],\"create_time\":{\"range\":\"all\"}},\"query\":\"\",\"sort\":[{\"field\":\"create_time\",\"order\":\"DESC\"}],\"start\":0,\"rows\":10000}'\n",
        "\n",
        "#Double check they're ok\n",
        "print('Request URL: ' + req_url)\n",
        "print('Headers: ', end=\"\") \n",
        "print(headers)\n",
        "print('Data: ', end=\"\")\n",
        "print(data)"
      ],
      "metadata": {
        "id": "YSfjQ2X15JA-"
      },
      "execution_count": null,
      "outputs": []
    },
    {
      "cell_type": "code",
      "source": [
        "#Make the request\n",
        "req = requests.post(req_url, headers=headers, data=data)\n",
        "print('Status code: ' + str(req.status_code))\n"
      ],
      "metadata": {
        "id": "E3UtKL8lHtor"
      },
      "execution_count": null,
      "outputs": []
    },
    {
      "cell_type": "code",
      "source": [
        "#Let's see what we've got\n",
        "alerts_dict = req.json()\n",
        "\n",
        "print('Total alerts found: ', end=\"\")\n",
        "print(alerts_dict.get('num_found'))\n",
        "print('Total alerts available: ', end=\"\")\n",
        "print(alerts_dict.get('num_available'))\n",
        "\n",
        "alerts_dict['results']\n",
        "alerts = pd.DataFrame.from_dict(alerts_dict['results'])\n",
        "alerts.head()"
      ],
      "metadata": {
        "id": "ZcQhDkcrJ243"
      },
      "execution_count": null,
      "outputs": []
    },
    {
      "cell_type": "code",
      "source": [
        "#Cool. Let's export to CSV now\n",
        "alerts.to_csv('alerts.csv')"
      ],
      "metadata": {
        "id": "M02j3K0tiFIV"
      },
      "execution_count": null,
      "outputs": []
    },
    {
      "cell_type": "code",
      "source": [
        "sev_summary = pd.DataFrame(alerts.pivot_table(index='severity',aggfunc='count').id).rename(columns = {'id':'Total_Alerts'})\n",
        "sev_summary"
      ],
      "metadata": {
        "id": "suPY6L4dU4RQ"
      },
      "execution_count": null,
      "outputs": []
    },
    {
      "cell_type": "code",
      "source": [
        "sev_summary.plot(kind='bar')"
      ],
      "metadata": {
        "id": "m2IKJUoziQoN"
      },
      "execution_count": null,
      "outputs": []
    },
    {
      "cell_type": "markdown",
      "source": [
        "#Get Users"
      ],
      "metadata": {
        "id": "skjz899QzxHQ"
      }
    },
    {
      "cell_type": "code",
      "source": [
        "#Form our request URL:\n",
        "req_url = base_url + '/appservices/v6/orgs/' + org_key + '/users'\n",
        "\n",
        "#Set our headers\n",
        "headers = {'X-Auth-Token': api_token,\n",
        "           'Content-Type': 'application/json'\n",
        "           }\n",
        "\n",
        "#Double check they're ok\n",
        "print('Request URL: ' + req_url)\n",
        "print('Headers: ', end=\"\") \n",
        "print(headers)"
      ],
      "metadata": {
        "id": "QLXoUFIXz7Gq"
      },
      "execution_count": null,
      "outputs": []
    },
    {
      "cell_type": "code",
      "source": [
        "#Make the request\n",
        "req = requests.get(req_url, headers=headers)\n",
        "print('Status code: ' + str(req.status_code))\n"
      ],
      "metadata": {
        "id": "DkNitZEu6ZUl"
      },
      "execution_count": null,
      "outputs": []
    },
    {
      "cell_type": "code",
      "source": [
        "#Let's see what we've got\n",
        "users_dict = req.json()\n",
        "users_dict['users']\n",
        "users = pd.DataFrame.from_dict(users_dict['users'])\n",
        "users"
      ],
      "metadata": {
        "id": "s-pb97T4_bkw"
      },
      "execution_count": null,
      "outputs": []
    },
    {
      "cell_type": "code",
      "source": [
        "#Due to the \"DEPRECATED\" values above, we need to look up each user (\"principal\") against a different API endpoint and see their \"grant\" (role)\n",
        "\n",
        "# See here for more info: https://developer.carbonblack.com/reference/carbon-black-cloud/platform/latest/access-profiles-and-grants/#get-grant-of-a-principal\n",
        "\n",
        "#For each login_id in users, look up the principal's grant:\n",
        "for i, j in users.iterrows():\n",
        "  print('login_id ' + str(j.login_id) + ' ', end=\"\")\n",
        "  \n",
        "  #Form our request URL:\n",
        "  req_url = base_url + '/access/v2/orgs/' + org_key + '/grants/psc:user:' + org_key + ':' + str(j.login_id)\n",
        "\n",
        "  #Set our headers\n",
        "  headers = {'X-Auth-Token': api_token,\n",
        "           'Content-Type': 'application/json'\n",
        "           }\n",
        "\n",
        "  #Make the request\n",
        "  req = requests.get(req_url, headers=headers)\n",
        "  print('Status code: ' + str(req.status_code) + ' ', end=\"\")\n",
        "\n",
        "  #Let's see what we've got\n",
        "  principal_dict = req.json()\n",
        "  role=np.array(principal_dict['roles'])\n",
        "\n",
        "  #Clean up the results\n",
        "  role=str(role).replace(\"BETA_\",\"\")\n",
        "  role=role.replace(\"psc:role::\",\"\")\n",
        "  role=role.replace(\"[\",\"\")\n",
        "  role=role.replace(\"]\",\"\")\n",
        "  role=role.replace(\"'\",\"\")\n",
        "  role=role.replace(\"_\", \" \")\n",
        "\n",
        "  print(role)\n",
        "  \n",
        "  #Set the new role value in the users dataframe\n",
        "  users.at[i,'role']=role\n",
        "  print()\n",
        "\n",
        "  \n",
        "  "
      ],
      "metadata": {
        "id": "0MDiJ_AEEM_w"
      },
      "execution_count": null,
      "outputs": []
    },
    {
      "cell_type": "code",
      "source": [
        "#Let's see the real user roles, now updated in the dataframe\n",
        "users"
      ],
      "metadata": {
        "id": "9f8oiS1lm5Mf"
      },
      "execution_count": null,
      "outputs": []
    },
    {
      "cell_type": "code",
      "source": [
        "#Cool. Let's export to CSV now\n",
        "users.to_csv('users.csv')"
      ],
      "metadata": {
        "id": "Nr7OJAO1iaqK"
      },
      "execution_count": 223,
      "outputs": []
    },
    {
      "cell_type": "markdown",
      "source": [
        "#Get USB Devices\n"
      ],
      "metadata": {
        "id": "07Fn701QF2rB"
      }
    },
    {
      "cell_type": "code",
      "source": [
        "#Looks like a 2-step process, similar to looking up users.\n",
        "# POST {cbc-hostname}/device_control/v3/orgs/{org_key}/devices/_search\n",
        "\n",
        "#Form our request URL:\n",
        "req_url = base_url + '/device_control/v3/orgs/' + org_key + '/devices/_search'\n",
        "\n",
        "#Set our headers\n",
        "headers = {'X-Auth-Token': api_token,\n",
        "           'Content-Type': 'application/json'\n",
        "           }\n",
        "#Set our data (body) for the request\n",
        "data = '{\"query\":\"\",\"criteria\":{},\"sort\":[{\"field\":\"last_seen\",\"order\":\"DESC\"}],\"start\":0,\"rows\":10000}'\n",
        "\n",
        "#Double check they're ok\n",
        "print('Request URL: ' + req_url)\n",
        "print('Headers: ', end=\"\") \n",
        "print(headers)\n",
        "print('Data: ', end=\"\")\n",
        "print(data)"
      ],
      "metadata": {
        "colab": {
          "base_uri": "https://localhost:8080/"
        },
        "id": "GLISOqsIF5j5",
        "outputId": "bfd86654-5228-478c-d103-3da5c96cd96f"
      },
      "execution_count": 242,
      "outputs": [
        {
          "output_type": "stream",
          "name": "stdout",
          "text": [
            "Request URL: https://defense.conferdeploy.net/device_control/v3/orgs/7PESY63N/devices/_search\n",
            "Headers: {'X-Auth-Token': '5PQFBDZEFFG8MGTZEGHC7Z5Q/3GVS5NZJCK', 'Content-Type': 'application/json'}\n",
            "Data: {\"query\":\"\",\"criteria\":{},\"sort\":[{\"field\":\"last_seen\",\"order\":\"DESC\"}],\"start\":0,\"rows\":10000}\n"
          ]
        }
      ]
    },
    {
      "cell_type": "code",
      "source": [
        "#Make the request\n",
        "req = requests.post(req_url, headers=headers, data=data)\n",
        "print('Status code: ' + str(req.status_code))"
      ],
      "metadata": {
        "colab": {
          "base_uri": "https://localhost:8080/"
        },
        "id": "fdgGwG_XNB7i",
        "outputId": "a33f2e35-10c4-40e0-a2da-804016e6d0d8"
      },
      "execution_count": 243,
      "outputs": [
        {
          "output_type": "stream",
          "name": "stdout",
          "text": [
            "Status code: 200\n"
          ]
        }
      ]
    },
    {
      "cell_type": "code",
      "source": [
        "usb_devices_dict = req.json()\n",
        "usb_devices_dict['results']\n",
        "usb_devices = pd.DataFrame.from_dict(usb_devices_dict['results'])\n",
        "usb_devices.set_index('id', drop=True, inplace=True)\n",
        "usb_devices"
      ],
      "metadata": {
        "colab": {
          "base_uri": "https://localhost:8080/",
          "height": 390
        },
        "id": "D34-qO68NHeA",
        "outputId": "20e1119f-091f-4734-bbaf-c3719d469f61"
      },
      "execution_count": 244,
      "outputs": [
        {
          "output_type": "execute_result",
          "data": {
            "text/plain": [
              "                                                first_seen  \\\n",
              "id                                                           \n",
              "f85444e7-62ea-3a02-88fa-2047f7512b72  2021-10-30T17:08:32Z   \n",
              "701a8dd4-cfb9-3435-a372-216f64510d2c  2021-10-29T20:09:26Z   \n",
              "2e2d18de-d624-396f-942e-c8b82e15645c  2021-03-18T17:26:14Z   \n",
              "\n",
              "                                                 last_seen  \\\n",
              "id                                                           \n",
              "f85444e7-62ea-3a02-88fa-2047f7512b72  2021-10-30T17:08:32Z   \n",
              "701a8dd4-cfb9-3435-a372-216f64510d2c  2021-10-29T20:09:26Z   \n",
              "2e2d18de-d624-396f-942e-c8b82e15645c  2021-04-14T12:45:22Z   \n",
              "\n",
              "                                                           vendor_name  \\\n",
              "id                                                                       \n",
              "f85444e7-62ea-3a02-88fa-2047f7512b72  Kingston Technology Company Inc.   \n",
              "701a8dd4-cfb9-3435-a372-216f64510d2c                           SanDisk   \n",
              "2e2d18de-d624-396f-942e-c8b82e15645c  Kingston Technology Company Inc.   \n",
              "\n",
              "                                     vendor_id  product_name product_id  \\\n",
              "id                                                                        \n",
              "f85444e7-62ea-3a02-88fa-2047f7512b72    0x13FE  USB DISK 3.0     0x6300   \n",
              "701a8dd4-cfb9-3435-a372-216f64510d2c    0x0781     Ultra Fit     0x5583   \n",
              "2e2d18de-d624-396f-942e-c8b82e15645c    0x13FE  USB DISK 3.0     0x6300   \n",
              "\n",
              "                                                                          serial_number  \\\n",
              "id                                                                                        \n",
              "f85444e7-62ea-3a02-88fa-2047f7512b72                           P190306607009A7986E5D713   \n",
              "701a8dd4-cfb9-3435-a372-216f64510d2c  05018891781b17ea35b158d3e437234b1ae2d89bfbb754...   \n",
              "2e2d18de-d624-396f-942e-c8b82e15645c                                   070002476C3DA691   \n",
              "\n",
              "                                     last_endpoint_name  last_endpoint_id  \\\n",
              "id                                                                          \n",
              "f85444e7-62ea-3a02-88fa-2047f7512b72          windows81           3220244   \n",
              "701a8dd4-cfb9-3435-a372-216f64510d2c          windows81           3220244   \n",
              "2e2d18de-d624-396f-942e-c8b82e15645c    DESKTOP-7HPGFA3           4123530   \n",
              "\n",
              "                                      last_policy_id  endpoint_count  \\\n",
              "id                                                                     \n",
              "f85444e7-62ea-3a02-88fa-2047f7512b72           72728               1   \n",
              "701a8dd4-cfb9-3435-a372-216f64510d2c           72728               1   \n",
              "2e2d18de-d624-396f-942e-c8b82e15645c           65848               1   \n",
              "\n",
              "                                                     device_friendly_name  \\\n",
              "id                                                                          \n",
              "f85444e7-62ea-3a02-88fa-2047f7512b72  UFD 3.0 Silicon-Power32G USB Device   \n",
              "701a8dd4-cfb9-3435-a372-216f64510d2c         SanDisk Ultra Fit USB Device   \n",
              "2e2d18de-d624-396f-942e-c8b82e15645c              USB DISK 3.0 USB Device   \n",
              "\n",
              "                                                  device_name  \\\n",
              "id                                                              \n",
              "f85444e7-62ea-3a02-88fa-2047f7512b72  \\Device\\HarddiskVolume4   \n",
              "701a8dd4-cfb9-3435-a372-216f64510d2c  \\Device\\HarddiskVolume2   \n",
              "2e2d18de-d624-396f-942e-c8b82e15645c  \\Device\\HarddiskVolume4   \n",
              "\n",
              "                                                created_at  \\\n",
              "id                                                           \n",
              "f85444e7-62ea-3a02-88fa-2047f7512b72  2021-10-30T17:10:43Z   \n",
              "701a8dd4-cfb9-3435-a372-216f64510d2c  2021-10-29T20:09:38Z   \n",
              "2e2d18de-d624-396f-942e-c8b82e15645c  2021-03-18T17:26:19Z   \n",
              "\n",
              "                                                updated_at      status  \n",
              "id                                                                      \n",
              "f85444e7-62ea-3a02-88fa-2047f7512b72  2021-10-30T17:10:43Z  UNAPPROVED  \n",
              "701a8dd4-cfb9-3435-a372-216f64510d2c  2021-10-29T20:09:38Z  UNAPPROVED  \n",
              "2e2d18de-d624-396f-942e-c8b82e15645c  2021-04-14T12:51:26Z  UNAPPROVED  "
            ],
            "text/html": [
              "\n",
              "  <div id=\"df-851dfc1d-1362-4f34-8e89-b73f65b034cf\">\n",
              "    <div class=\"colab-df-container\">\n",
              "      <div>\n",
              "<style scoped>\n",
              "    .dataframe tbody tr th:only-of-type {\n",
              "        vertical-align: middle;\n",
              "    }\n",
              "\n",
              "    .dataframe tbody tr th {\n",
              "        vertical-align: top;\n",
              "    }\n",
              "\n",
              "    .dataframe thead th {\n",
              "        text-align: right;\n",
              "    }\n",
              "</style>\n",
              "<table border=\"1\" class=\"dataframe\">\n",
              "  <thead>\n",
              "    <tr style=\"text-align: right;\">\n",
              "      <th></th>\n",
              "      <th>first_seen</th>\n",
              "      <th>last_seen</th>\n",
              "      <th>vendor_name</th>\n",
              "      <th>vendor_id</th>\n",
              "      <th>product_name</th>\n",
              "      <th>product_id</th>\n",
              "      <th>serial_number</th>\n",
              "      <th>last_endpoint_name</th>\n",
              "      <th>last_endpoint_id</th>\n",
              "      <th>last_policy_id</th>\n",
              "      <th>endpoint_count</th>\n",
              "      <th>device_friendly_name</th>\n",
              "      <th>device_name</th>\n",
              "      <th>created_at</th>\n",
              "      <th>updated_at</th>\n",
              "      <th>status</th>\n",
              "    </tr>\n",
              "    <tr>\n",
              "      <th>id</th>\n",
              "      <th></th>\n",
              "      <th></th>\n",
              "      <th></th>\n",
              "      <th></th>\n",
              "      <th></th>\n",
              "      <th></th>\n",
              "      <th></th>\n",
              "      <th></th>\n",
              "      <th></th>\n",
              "      <th></th>\n",
              "      <th></th>\n",
              "      <th></th>\n",
              "      <th></th>\n",
              "      <th></th>\n",
              "      <th></th>\n",
              "      <th></th>\n",
              "    </tr>\n",
              "  </thead>\n",
              "  <tbody>\n",
              "    <tr>\n",
              "      <th>f85444e7-62ea-3a02-88fa-2047f7512b72</th>\n",
              "      <td>2021-10-30T17:08:32Z</td>\n",
              "      <td>2021-10-30T17:08:32Z</td>\n",
              "      <td>Kingston Technology Company Inc.</td>\n",
              "      <td>0x13FE</td>\n",
              "      <td>USB DISK 3.0</td>\n",
              "      <td>0x6300</td>\n",
              "      <td>P190306607009A7986E5D713</td>\n",
              "      <td>windows81</td>\n",
              "      <td>3220244</td>\n",
              "      <td>72728</td>\n",
              "      <td>1</td>\n",
              "      <td>UFD 3.0 Silicon-Power32G USB Device</td>\n",
              "      <td>\\Device\\HarddiskVolume4</td>\n",
              "      <td>2021-10-30T17:10:43Z</td>\n",
              "      <td>2021-10-30T17:10:43Z</td>\n",
              "      <td>UNAPPROVED</td>\n",
              "    </tr>\n",
              "    <tr>\n",
              "      <th>701a8dd4-cfb9-3435-a372-216f64510d2c</th>\n",
              "      <td>2021-10-29T20:09:26Z</td>\n",
              "      <td>2021-10-29T20:09:26Z</td>\n",
              "      <td>SanDisk</td>\n",
              "      <td>0x0781</td>\n",
              "      <td>Ultra Fit</td>\n",
              "      <td>0x5583</td>\n",
              "      <td>05018891781b17ea35b158d3e437234b1ae2d89bfbb754...</td>\n",
              "      <td>windows81</td>\n",
              "      <td>3220244</td>\n",
              "      <td>72728</td>\n",
              "      <td>1</td>\n",
              "      <td>SanDisk Ultra Fit USB Device</td>\n",
              "      <td>\\Device\\HarddiskVolume2</td>\n",
              "      <td>2021-10-29T20:09:38Z</td>\n",
              "      <td>2021-10-29T20:09:38Z</td>\n",
              "      <td>UNAPPROVED</td>\n",
              "    </tr>\n",
              "    <tr>\n",
              "      <th>2e2d18de-d624-396f-942e-c8b82e15645c</th>\n",
              "      <td>2021-03-18T17:26:14Z</td>\n",
              "      <td>2021-04-14T12:45:22Z</td>\n",
              "      <td>Kingston Technology Company Inc.</td>\n",
              "      <td>0x13FE</td>\n",
              "      <td>USB DISK 3.0</td>\n",
              "      <td>0x6300</td>\n",
              "      <td>070002476C3DA691</td>\n",
              "      <td>DESKTOP-7HPGFA3</td>\n",
              "      <td>4123530</td>\n",
              "      <td>65848</td>\n",
              "      <td>1</td>\n",
              "      <td>USB DISK 3.0 USB Device</td>\n",
              "      <td>\\Device\\HarddiskVolume4</td>\n",
              "      <td>2021-03-18T17:26:19Z</td>\n",
              "      <td>2021-04-14T12:51:26Z</td>\n",
              "      <td>UNAPPROVED</td>\n",
              "    </tr>\n",
              "  </tbody>\n",
              "</table>\n",
              "</div>\n",
              "      <button class=\"colab-df-convert\" onclick=\"convertToInteractive('df-851dfc1d-1362-4f34-8e89-b73f65b034cf')\"\n",
              "              title=\"Convert this dataframe to an interactive table.\"\n",
              "              style=\"display:none;\">\n",
              "        \n",
              "  <svg xmlns=\"http://www.w3.org/2000/svg\" height=\"24px\"viewBox=\"0 0 24 24\"\n",
              "       width=\"24px\">\n",
              "    <path d=\"M0 0h24v24H0V0z\" fill=\"none\"/>\n",
              "    <path d=\"M18.56 5.44l.94 2.06.94-2.06 2.06-.94-2.06-.94-.94-2.06-.94 2.06-2.06.94zm-11 1L8.5 8.5l.94-2.06 2.06-.94-2.06-.94L8.5 2.5l-.94 2.06-2.06.94zm10 10l.94 2.06.94-2.06 2.06-.94-2.06-.94-.94-2.06-.94 2.06-2.06.94z\"/><path d=\"M17.41 7.96l-1.37-1.37c-.4-.4-.92-.59-1.43-.59-.52 0-1.04.2-1.43.59L10.3 9.45l-7.72 7.72c-.78.78-.78 2.05 0 2.83L4 21.41c.39.39.9.59 1.41.59.51 0 1.02-.2 1.41-.59l7.78-7.78 2.81-2.81c.8-.78.8-2.07 0-2.86zM5.41 20L4 18.59l7.72-7.72 1.47 1.35L5.41 20z\"/>\n",
              "  </svg>\n",
              "      </button>\n",
              "      \n",
              "  <style>\n",
              "    .colab-df-container {\n",
              "      display:flex;\n",
              "      flex-wrap:wrap;\n",
              "      gap: 12px;\n",
              "    }\n",
              "\n",
              "    .colab-df-convert {\n",
              "      background-color: #E8F0FE;\n",
              "      border: none;\n",
              "      border-radius: 50%;\n",
              "      cursor: pointer;\n",
              "      display: none;\n",
              "      fill: #1967D2;\n",
              "      height: 32px;\n",
              "      padding: 0 0 0 0;\n",
              "      width: 32px;\n",
              "    }\n",
              "\n",
              "    .colab-df-convert:hover {\n",
              "      background-color: #E2EBFA;\n",
              "      box-shadow: 0px 1px 2px rgba(60, 64, 67, 0.3), 0px 1px 3px 1px rgba(60, 64, 67, 0.15);\n",
              "      fill: #174EA6;\n",
              "    }\n",
              "\n",
              "    [theme=dark] .colab-df-convert {\n",
              "      background-color: #3B4455;\n",
              "      fill: #D2E3FC;\n",
              "    }\n",
              "\n",
              "    [theme=dark] .colab-df-convert:hover {\n",
              "      background-color: #434B5C;\n",
              "      box-shadow: 0px 1px 3px 1px rgba(0, 0, 0, 0.15);\n",
              "      filter: drop-shadow(0px 1px 2px rgba(0, 0, 0, 0.3));\n",
              "      fill: #FFFFFF;\n",
              "    }\n",
              "  </style>\n",
              "\n",
              "      <script>\n",
              "        const buttonEl =\n",
              "          document.querySelector('#df-851dfc1d-1362-4f34-8e89-b73f65b034cf button.colab-df-convert');\n",
              "        buttonEl.style.display =\n",
              "          google.colab.kernel.accessAllowed ? 'block' : 'none';\n",
              "\n",
              "        async function convertToInteractive(key) {\n",
              "          const element = document.querySelector('#df-851dfc1d-1362-4f34-8e89-b73f65b034cf');\n",
              "          const dataTable =\n",
              "            await google.colab.kernel.invokeFunction('convertToInteractive',\n",
              "                                                     [key], {});\n",
              "          if (!dataTable) return;\n",
              "\n",
              "          const docLinkHtml = 'Like what you see? Visit the ' +\n",
              "            '<a target=\"_blank\" href=https://colab.research.google.com/notebooks/data_table.ipynb>data table notebook</a>'\n",
              "            + ' to learn more about interactive tables.';\n",
              "          element.innerHTML = '';\n",
              "          dataTable['output_type'] = 'display_data';\n",
              "          await google.colab.output.renderOutput(dataTable, element);\n",
              "          const docLink = document.createElement('div');\n",
              "          docLink.innerHTML = docLinkHtml;\n",
              "          element.appendChild(docLink);\n",
              "        }\n",
              "      </script>\n",
              "    </div>\n",
              "  </div>\n",
              "  "
            ]
          },
          "metadata": {},
          "execution_count": 244
        }
      ]
    },
    {
      "cell_type": "code",
      "source": [
        ""
      ],
      "metadata": {
        "id": "b8Qj4yWrPFi2"
      },
      "execution_count": null,
      "outputs": []
    }
  ]
}